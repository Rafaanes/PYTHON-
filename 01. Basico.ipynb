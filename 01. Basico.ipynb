{
 "cells": [
  {
   "cell_type": "markdown",
   "id": "6640ecbd",
   "metadata": {},
   "source": [
    "Análise de dados\n",
    "================\n",
    "\n",
    "📘 O que é um arquivo .ipynb ?\n",
    "------------------------------\n",
    "\n",
    ".ipynb é um tipo de arquivo usado pelo Jupyter \n",
    "Notebook (incluindo o Google Colab), ou seja,\n",
    "significa Interactive Python Notebook.\n",
    "\n",
    "É um arquivo JSON estruturado, mas você o manipula \n",
    "através de uma interface visual (como Jupyter ou Colab).\n",
    "\n",
    "Contém códigos Python + textos + gráficos + tabelas \n",
    "em um mesmo documento.\n",
    "\n",
    "Usado para análise de dados, ensino, experimentação, \n",
    "ciência de dados e machine learning.\n",
    "\n",
    "\n",
    "\n",
    "⚙️ O que pode ter dentro de um .ipynb?\n",
    "---------------------------------------\n",
    "Células de código (com Python ou outro kernel)\n",
    "\n",
    "Células de texto (em Markdown, com títulos, listas, links etc)\n",
    "\n",
    "Saídas de código (prints, gráficos, tabelas, etc)\n",
    "\n",
    "Comentários explicativos\n",
    "\n",
    "Histórico de execução\n",
    "\n"
   ]
  },
  {
   "cell_type": "markdown",
   "id": "e1fe3b4b",
   "metadata": {},
   "source": [
    "Importando dados - 23/10/2025"
   ]
  },
  {
   "cell_type": "code",
   "execution_count": null,
   "id": "bb335971",
   "metadata": {},
   "outputs": [],
   "source": [
    "import pandas as pd\n",
    "\n",
    "#pip install babel\n",
    "from babel.numbers import format_currency #R$(valor monetário)\n",
    "\n",
    "def converter_reais(valor):\n",
    "    return format_currency(valor, 'BRL', locale='pt_BR')"
   ]
  },
  {
   "cell_type": "code",
   "execution_count": null,
   "id": "052af671",
   "metadata": {},
   "outputs": [],
   "source": [
    "local_arquivo = r'C:\\Rafaélla Sena - Python\\Python 2\\Python 2 - Clarify\\Aluno\\Aula_01\\bases\\01_base_exe_novo.xlsx'\n",
    "dados = pd.read_excel(local_arquivo)\n",
    "display(dados)"
   ]
  },
  {
   "cell_type": "code",
   "execution_count": null,
   "id": "65ce081b",
   "metadata": {},
   "outputs": [],
   "source": [
    "#vamos exibir o total da coluna Desconto\n",
    "\n",
    "faturamento_total = dados['Desconto'].sum()\n",
    "display(f'{faturamento_total:,.2f}')"
   ]
  },
  {
   "cell_type": "markdown",
   "id": "9f788a72",
   "metadata": {},
   "source": [
    "biblioteca Babel\n",
    "================\n",
    "importar a função format_currency da biblioteca babel, que é\n",
    "usada para formatar números como valores monetários(moeda)\n",
    "de forma correta\n",
    "\n",
    "\n",
    "Você encontra informações completas da biblioteca Babel em fontes oficiais, cada uma com um nível diferente de detalhe:\n",
    "\n",
    "O que você encontra no\tLink:\n",
    "=============================\n",
    "Guia de uso, exemplos de código, referência de todas as \n",
    "                                    funções (dates, numbers, traduções etc.).\thttps://babel.pocoo.org/\n",
    "\n",
    "Descrição do pacote, comando de instalação, histórico de versões. https://pypi.org/project/Babel/"
   ]
  },
  {
   "cell_type": "code",
   "execution_count": null,
   "id": "b7747957",
   "metadata": {},
   "outputs": [],
   "source": [
    "\n",
    "#obrigatoriamente todas as funções ficam no inicio do código \n",
    "def converter_reais(valor):\n",
    "\n",
    "    #simbolo R$\n",
    "    return format_currency(valor, 'BRL', locale='pt_BR')\n",
    "\n",
    "#item 1- Agrupar e somar os descontos por cidade\n",
    "faturamento_por_loja = dados[['Cidade','Desconto']].groupby('Cidade').sum()\n",
    "\n",
    "#item 2- comoa coluna 'Cidade' está como indice, para formatar 'Desconto' fazemos desta forma:\n",
    "faturamento_por_loja['Desconto Formatado'] = faturamento_por_loja['Desconto'].apply(converter_reais)\n",
    "\n",
    "#item 3- exibir os dados\n",
    "display(faturamento_por_loja)"
   ]
  },
  {
   "cell_type": "code",
   "execution_count": null,
   "id": "58343882",
   "metadata": {},
   "outputs": [],
   "source": [
    "# Faturamento por plano \n",
    "def converter_reais(valor):\n",
    "    return format_currency(valor, 'BRL', locale='pt_BR')\n",
    "\n",
    "#agrupar e somar os descontos por plano\n",
    "faturamento_por_plano = dados[['Plano Vendido','Desconto']].groupby('Plano Vendido').sum().reset_index()\n",
    "\n",
    "faturamento_por_plano['Desconto Formatado'] = faturamento_por_plano['Desconto'].apply(converter_reais)\n",
    "display(faturamento_por_plano)"
   ]
  },
  {
   "cell_type": "code",
   "execution_count": null,
   "id": "16698465",
   "metadata": {},
   "outputs": [],
   "source": [
    "# faturamento por plano e cidade\n",
    "\n",
    "# Plano Vendido, Cidade, Desconto\n",
    "faturamento_por_plano_cidade = dados[['Plano Vendido','Cidade','Desconto']].groupby(['Plano Vendido','Cidade']).sum().reset_index()\n",
    "\n",
    "display(faturamento_por_plano_cidade)\n",
    "\n"
   ]
  },
  {
   "cell_type": "code",
   "execution_count": null,
   "id": "c8ee1725",
   "metadata": {},
   "outputs": [],
   "source": [
    "#  Cidade, Plano Vendido, Desconto\n",
    "faturamento_por_cidade = dados[['Cidade','Plano Vendido','Desconto']].groupby(['Cidade','Plano Vendido']).sum().reset_index()\n",
    "\n",
    "faturamento_por_cidade['Desconto Formatado'] = faturamento_por_cidade['Desconto'].apply(converter_reais)\n",
    "\n",
    "faturamento_por_cidade #o resultado da variavel será exibido na tela "
   ]
  },
  {
   "cell_type": "code",
   "execution_count": null,
   "id": "129ca276",
   "metadata": {},
   "outputs": [],
   "source": [
    "# faturamento médio mensal\n",
    "# a função .mean() retorna um tipo de dado chamado  Numpy float64\n",
    "# é uma (biblioteca Numpy, número de ponto flutuante \"monetário\")\n",
    "maior_valor = dados['Desconto'].max() #maior valor da coluna\n",
    "menor_valor = dados['Desconto'].min() #menor valor\n",
    "media_valor = dados['Desconto'].mean() #media valor\n",
    "qtde_registros = dados ['Desconto'].count() #contagem\n",
    "\n",
    "display(f'Maior valor: {maior_valor:,.2f}')\n",
    "display(f'Menor valor: {menor_valor:,.2f}')\n",
    "display(f'Media: {media_valor:,.2f}')\n",
    "display(f'Quantidade de registros: {qtde_registros}')"
   ]
  },
  {
   "cell_type": "code",
   "execution_count": null,
   "id": "66befac1",
   "metadata": {},
   "outputs": [],
   "source": [
    "# faturamento por cliente\n",
    "\n",
    "# 1) agrupa o DataFrame dados pelo campo 'Cliente'\n",
    "# 2) para cada grupo(cliente), somar os valores da coluna Desconto\n",
    "# 3) ordena os valores do maior para o menor [Z-A]\n",
    "faturamento_por_cliente = dados.groupby('Cliente')['Desconto'].sum().sort_values(ascending=False) #[Z-A]\n",
    "faturamento_por_cliente"
   ]
  },
  {
   "cell_type": "code",
   "execution_count": null,
   "id": "6ad9d163",
   "metadata": {},
   "outputs": [],
   "source": [
    "# qtde de vendas cidade\n",
    "\n",
    "#.size() = conta quantas linhas existem em cada grupo, ou seja, quantas vendas daquele plano forma feitas em cada cidade\n",
    "\n",
    "#.reset_index (name = contagem) = transformar o resultado em um dataframe normal, com as colunas cidade, plano vendido e uma nova coluna Contagem que mostra a quantidade de vendas para aquela combinação\n",
    "qtde_vendas_cidade = dados.groupby(['Cidade','Plano Vendido'])['Desconto'].size().reset_index(name ='Contagem')\n",
    "qtde_vendas_cidade\n"
   ]
  },
  {
   "cell_type": "code",
   "execution_count": null,
   "id": "42c79b29",
   "metadata": {},
   "outputs": [],
   "source": [
    "# distribuição qtde de planos vendidos\n",
    "# contar quantas vezes cada valor único aparece na coluna\n",
    "qtde_planos_vendidos_distr = dados['Plano Vendido'].value_counts()\n",
    "\n",
    "qtde_planos_vendidos_distr\n"
   ]
  },
  {
   "cell_type": "code",
   "execution_count": null,
   "id": "b0273be0",
   "metadata": {},
   "outputs": [],
   "source": [
    "# agrupa por Plano Vendido\n",
    "\n",
    "resultado = dados.groupby('Plano Vendido').agg(\n",
    "    qtde_venda = ('Plano Vendido', 'size'),\n",
    "    soma_desconto = ('Desconto','sum'),\n",
    "    media_desconto = ('Desconto', 'mean'),\n",
    "    maior_desconto = ('Desconto', 'max'),\n",
    "    menor_desconto = ('Desconto','min')\n",
    ").reset_index()\n",
    "\n",
    "#formatar os valores monetários\n",
    "resultado['Total Desc'] = resultado['soma_desconto'].apply(converter_reais)\n",
    "resultado['Media Desc'] = resultado['media_desconto'].apply(converter_reais)\n",
    "resultado['Maior Desc'] = resultado['maior_desconto'].apply(converter_reais)\n",
    "resultado['Menor Desc'] = resultado['menor_desconto'].apply(converter_reais)\n",
    "\n",
    "#remove as colunas numéricas originais para ficar só com as formatadas\n",
    "resultado = resultado.drop(\n",
    "    columns=['soma_desconto','media_desconto','maior_desconto','menor_desconto']\n",
    ")\n",
    "\n",
    "#renomear a coluna qtde_venda para qtde vendida\n",
    "resultado = resultado.rename(columns={'qtde_venda':'Qtde Vendas'})\n",
    "\n",
    "resultado"
   ]
  },
  {
   "cell_type": "code",
   "execution_count": null,
   "id": "7321da40",
   "metadata": {},
   "outputs": [
    {
     "data": {
      "text/plain": [
       "'Basic'"
      ]
     },
     "execution_count": 41,
     "metadata": {},
     "output_type": "execute_result"
    }
   ],
   "source": [
    "# melhor plano\n",
    "# 1) seleciona a coluna [Plano Vendido]\n",
    "# 2) .value_counts() = contar quantas vezes cada plano aparece\n",
    "#    ,ou seja, a quantidade de vendas de cada plano\n",
    "# 3) .idxmax() = retorna o índice, ou seja, o plano com mais vendas.\n",
    "plano_mais_vendido = dados['Plano Vendido'].value_counts().idxmax()\n",
    "plano_mais_vendido\n",
    "\n"
   ]
  }
 ],
 "metadata": {
  "kernelspec": {
   "display_name": "Python 3",
   "language": "python",
   "name": "python3"
  },
  "language_info": {
   "codemirror_mode": {
    "name": "ipython",
    "version": 3
   },
   "file_extension": ".py",
   "mimetype": "text/x-python",
   "name": "python",
   "nbconvert_exporter": "python",
   "pygments_lexer": "ipython3",
   "version": "3.13.7"
  }
 },
 "nbformat": 4,
 "nbformat_minor": 5
}
