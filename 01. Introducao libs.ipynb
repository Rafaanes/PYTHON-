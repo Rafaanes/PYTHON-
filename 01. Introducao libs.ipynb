{
 "cells": [
  {
   "cell_type": "markdown",
   "id": "f8e2a02b",
   "metadata": {},
   "source": [
    "NumPy por que usar?\n",
    "==================\n",
    "\n",
    "1) Manipulação rápida de dados numéricos:\n",
    "\n",
    "        Python tem listas, mas elas não são tão eficientes \n",
    "        para fazer contas com muitos números.\n",
    "\n",
    "        NumPy cria algo chamado arrays (parecido com listas, \n",
    "        mas muito mais rápidos e eficientes).\n",
    "\n",
    "2) Mais fácil fazer cálculos matemáticos:\n",
    "\n",
    "        Com NumPy, você pode somar, multiplicar, \n",
    "        tirar a média e fazer outras operações \n",
    "        em um monte de números com poucas linhas de código.\n",
    "\n",
    "3) Cálculos vetoriais e matriciais:\n",
    "\n",
    "        NumPy trabalha bem com vetores e matrizes, que são\n",
    "        essenciais em matemática, estatística e ciência de dados.\n",
    "\n",
    "--------------------------------------------------------------------------------------------------------"
   ]
  },
  {
   "cell_type": "markdown",
   "id": "959e67ff",
   "metadata": {},
   "source": [
    "Matplotlib.pyplot por que usar ?\n",
    "==============================\n",
    "\n",
    "    Matplotlib é uma biblioteca muito usada em Python para criar gráficos.\n",
    "\n",
    "    Dentro dela, o módulo pyplot é a parte que facilita \n",
    "    a criação de gráficos como linhas, barras, histogramas, pizza, etc.\n",
    "\n",
    "    Ele oferece funções simples para você criar e personalizar seus gráficos.\n",
    "\n",
    "--------------------------------------------------------------------------------------------------------"
   ]
  },
  {
   "cell_type": "markdown",
   "id": "a1c9b84b",
   "metadata": {},
   "source": [
    "Seaborn por que usar ?\n",
    "====================\n",
    "\n",
    "    Seaborn é uma biblioteca de Python para criar \n",
    "    gráficos estatísticos e visualizações de dados.\n",
    "\n",
    "    Ela é construída em cima do Matplotlib, mas facilita \n",
    "    muito a criação de gráficos bonitos e com estilos mais modernos.\n",
    "\n",
    "1) Visualizações mais bonitas e fáceis:\n",
    "\n",
    "    Com poucas linhas de código, você cria \n",
    "    gráficos com cores, estilos e informações melhores \n",
    "    do que usando só Matplotlib.\n",
    "\n",
    "2) A sigla sns é só um apelido para facilitar a digitação.\n",
    "\n",
    "3) Todo mundo usa assim, então seu código fica mais fácil de entender e compartilhar.\n",
    "\n",
    "4) Gráficos estatísticos prontos:\n",
    "\n",
    "    Seaborn tem gráficos que ajudam a analisar dados, \n",
    "    como gráficos de dispersão, boxplots, histogramas \n",
    "    com linhas de densidade, gráficos de correlação, etc.\n",
    "\n",
    "É ótimo para explorar dados e ver tendências rapidamente.\n",
    "\n",
    "Integração com Pandas:\n",
    "\n",
    "Funciona super bem com DataFrames do Pandas, \n",
    "que é o jeito mais comum de trabalhar com dados em Python."
   ]
  }
 ],
 "metadata": {
  "kernelspec": {
   "display_name": "Python 3",
   "language": "python",
   "name": "python3"
  },
  "language_info": {
   "name": "python",
   "version": "3.11.9"
  }
 },
 "nbformat": 4,
 "nbformat_minor": 5
}
